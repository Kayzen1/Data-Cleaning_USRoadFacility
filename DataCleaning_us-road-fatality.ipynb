{
 "cells": [
  {
   "cell_type": "code",
   "execution_count": 1,
   "id": "e9fa86a6",
   "metadata": {
    "_cell_guid": "b1076dfc-b9ad-4769-8c92-a6c4dae69d19",
    "_uuid": "8f2839f25d086af736a60e9eeb907d3b93b6e0e5",
    "execution": {
     "iopub.execute_input": "2023-10-04T02:41:13.437886Z",
     "iopub.status.busy": "2023-10-04T02:41:13.437339Z",
     "iopub.status.idle": "2023-10-04T02:41:13.705778Z",
     "shell.execute_reply": "2023-10-04T02:41:13.705071Z"
    },
    "papermill": {
     "duration": 0.276097,
     "end_time": "2023-10-04T02:41:13.707718",
     "exception": false,
     "start_time": "2023-10-04T02:41:13.431621",
     "status": "completed"
    },
    "tags": []
   },
   "outputs": [
    {
     "name": "stdout",
     "output_type": "stream",
     "text": [
      "/kaggle/input/2020-us-fatality-crss/person.csv\n",
      "/kaggle/input/2020-us-fatality-crss/vehicle.csv\n",
      "/kaggle/input/2020-us-fatality-crss/accident.csv\n",
      "/kaggle/input/2021-us-fatality-crss/person.csv\n",
      "/kaggle/input/2021-us-fatality-crss/vehicle.csv\n",
      "/kaggle/input/2021-us-fatality-crss/accident.csv\n"
     ]
    }
   ],
   "source": [
    "# This Python 3 environment comes with many helpful analytics libraries installed\n",
    "# It is defined by the kaggle/python Docker image: https://github.com/kaggle/docker-python\n",
    "# For example, here's several helpful packages to load\n",
    "\n",
    "import numpy as np # linear algebra\n",
    "import pandas as pd # data processing, CSV file I/O (e.g. pd.read_csv)\n",
    "\n",
    "# Input data files are available in the read-only \"../input/\" directory\n",
    "# For example, running this (by clicking run or pressing Shift+Enter) will list all files under the input directory\n",
    "\n",
    "import os\n",
    "for dirname, _, filenames in os.walk('/kaggle/input'):\n",
    "    for filename in filenames:\n",
    "        print(os.path.join(dirname, filename))\n",
    "\n",
    "# You can write up to 20GB to the current directory (/kaggle/working/) that gets preserved as output when you create a version using \"Save & Run All\" \n",
    "# You can also write temporary files to /kaggle/temp/, but they won't be saved outside of the current session"
   ]
  },
  {
   "cell_type": "code",
   "execution_count": 2,
   "id": "8337725a",
   "metadata": {
    "execution": {
     "iopub.execute_input": "2023-10-04T02:41:13.717523Z",
     "iopub.status.busy": "2023-10-04T02:41:13.716437Z",
     "iopub.status.idle": "2023-10-04T02:41:18.175219Z",
     "shell.execute_reply": "2023-10-04T02:41:18.174147Z"
    },
    "papermill": {
     "duration": 4.465579,
     "end_time": "2023-10-04T02:41:18.177261",
     "exception": false,
     "start_time": "2023-10-04T02:41:13.711682",
     "status": "completed"
    },
    "tags": []
   },
   "outputs": [],
   "source": [
    "# Load data\n",
    "df_a_2021 = pd.read_csv('/kaggle/input/2021-us-fatality-crss/accident.csv')\n",
    "df_p_2021 = pd.read_csv('/kaggle/input/2021-us-fatality-crss/person.csv')"
   ]
  },
  {
   "cell_type": "markdown",
   "id": "e67c1138",
   "metadata": {
    "papermill": {
     "duration": 0.003203,
     "end_time": "2023-10-04T02:41:18.184325",
     "exception": false,
     "start_time": "2023-10-04T02:41:18.181122",
     "status": "completed"
    },
    "tags": []
   },
   "source": [
    "## Calculate the Weighted_frequency accident_2021"
   ]
  },
  {
   "cell_type": "code",
   "execution_count": 3,
   "id": "d34479e5",
   "metadata": {
    "execution": {
     "iopub.execute_input": "2023-10-04T02:41:18.192649Z",
     "iopub.status.busy": "2023-10-04T02:41:18.192198Z",
     "iopub.status.idle": "2023-10-04T02:41:18.270731Z",
     "shell.execute_reply": "2023-10-04T02:41:18.269449Z"
    },
    "papermill": {
     "duration": 0.085133,
     "end_time": "2023-10-04T02:41:18.272842",
     "exception": false,
     "start_time": "2023-10-04T02:41:18.187709",
     "status": "completed"
    },
    "tags": []
   },
   "outputs": [
    {
     "name": "stdout",
     "output_type": "stream",
     "text": [
      "                              Frequency  Weighted Frequency  \\\n",
      "MAXSEV_IM                                                     \n",
      "No Apparent Injury (O)            25322        4.333259e+06   \n",
      "Possible Injury (C)               12190        9.248229e+05   \n",
      "Suspected Minor Injury (B)         9523        6.400733e+05   \n",
      "Suspected Serious Injury (A)       5824        1.529867e+05   \n",
      "Fatal Injury (K)                   1194        3.950800e+04   \n",
      "Injured, Severity Unknown           132        9.725342e+03   \n",
      "No person involved                   13        2.513780e+03   \n",
      "Died Prior to Crash*                  2        4.704124e+01   \n",
      "\n",
      "                              Std Dev of Wgt Freq    Percent  \\\n",
      "MAXSEV_IM                                                      \n",
      "No Apparent Injury (O)                  57.230473  71.002860   \n",
      "Possible Injury (C)                     53.820814  15.153736   \n",
      "Suspected Minor Injury (B)              54.100905  10.487957   \n",
      "Suspected Serious Injury (A)            20.503335   2.506772   \n",
      "Fatal Injury (K)                        32.475318   0.647361   \n",
      "Injured, Severity Unknown               57.462462   0.159355   \n",
      "No person involved                      67.740744   0.041190   \n",
      "Died Prior to Crash*                     1.313002   0.000771   \n",
      "\n",
      "                              Std Err of Percent  \n",
      "MAXSEV_IM                                         \n",
      "No Apparent Injury (O)                  0.000006  \n",
      "Possible Injury (C)                     0.000008  \n",
      "Suspected Minor Injury (B)              0.000009  \n",
      "Suspected Serious Injury (A)            0.000004  \n",
      "Fatal Injury (K)                        0.000015  \n",
      "Injured, Severity Unknown               0.000082  \n",
      "No person involved                      0.000308  \n",
      "Died Prior to Crash*                    0.000015  \n"
     ]
    }
   ],
   "source": [
    "frequency = df_a_2021['MAXSEV_IM'].value_counts().rename('Frequency')\n",
    "weighted_frequency = df_a_2021.groupby('MAXSEV_IM')['WEIGHT'].sum().rename('Weighted Frequency')\n",
    "\n",
    "grouped = df_a_2021.groupby('MAXSEV_IM')['WEIGHT']\n",
    "std_dev = grouped.apply(lambda x: np.std(x, ddof=1)).rename('Std Dev of Wgt Freq')\n",
    "std_err = (std_dev / np.sqrt(grouped.count())).rename('Std Err of Percent')\n",
    "\n",
    "total_weighted_frequency = weighted_frequency.sum()\n",
    "percent = (weighted_frequency / total_weighted_frequency * 100).rename('Percent')\n",
    "percent_std_err = (std_err / total_weighted_frequency * 100).rename('Std Err of Percent')\n",
    "\n",
    "result = pd.concat([frequency, weighted_frequency, std_dev, percent, percent_std_err], axis=1)\n",
    "\n",
    "result.index = result.index.map(df_a_2021.set_index('MAXSEV_IM')['MAXSEV_IMNAME'].to_dict())\n",
    "\n",
    "print(result)"
   ]
  },
  {
   "cell_type": "code",
   "execution_count": 4,
   "id": "7142b972",
   "metadata": {
    "execution": {
     "iopub.execute_input": "2023-10-04T02:41:18.281788Z",
     "iopub.status.busy": "2023-10-04T02:41:18.281488Z",
     "iopub.status.idle": "2023-10-04T02:41:18.288723Z",
     "shell.execute_reply": "2023-10-04T02:41:18.287686Z"
    },
    "papermill": {
     "duration": 0.013533,
     "end_time": "2023-10-04T02:41:18.290272",
     "exception": false,
     "start_time": "2023-10-04T02:41:18.276739",
     "status": "completed"
    },
    "tags": []
   },
   "outputs": [],
   "source": [
    "result.to_csv('/kaggle/working/result_weightconsider2021.csv', index=True)"
   ]
  },
  {
   "cell_type": "code",
   "execution_count": 5,
   "id": "ead2f099",
   "metadata": {
    "execution": {
     "iopub.execute_input": "2023-10-04T02:41:18.299194Z",
     "iopub.status.busy": "2023-10-04T02:41:18.298828Z",
     "iopub.status.idle": "2023-10-04T02:41:18.357760Z",
     "shell.execute_reply": "2023-10-04T02:41:18.356983Z"
    },
    "papermill": {
     "duration": 0.065386,
     "end_time": "2023-10-04T02:41:18.359513",
     "exception": false,
     "start_time": "2023-10-04T02:41:18.294127",
     "status": "completed"
    },
    "tags": []
   },
   "outputs": [
    {
     "data": {
      "text/plain": [
       "CASENUM          0\n",
       "PSU              0\n",
       "PSU_VAR          0\n",
       "PSUSTRAT         0\n",
       "REGION           0\n",
       "                ..\n",
       "NO_INJ_IMNAME    0\n",
       "ALCOHOL          0\n",
       "ALCOHOLNAME      0\n",
       "ALCHL_IM         0\n",
       "ALCHL_IMNAME     0\n",
       "Length: 80, dtype: int64"
      ]
     },
     "execution_count": 5,
     "metadata": {},
     "output_type": "execute_result"
    }
   ],
   "source": [
    "df_a_2021.isnull().sum()"
   ]
  },
  {
   "cell_type": "code",
   "execution_count": 6,
   "id": "bf9b62a0",
   "metadata": {
    "execution": {
     "iopub.execute_input": "2023-10-04T02:41:18.368430Z",
     "iopub.status.busy": "2023-10-04T02:41:18.368195Z",
     "iopub.status.idle": "2023-10-04T02:41:18.373098Z",
     "shell.execute_reply": "2023-10-04T02:41:18.371953Z"
    },
    "papermill": {
     "duration": 0.011442,
     "end_time": "2023-10-04T02:41:18.375121",
     "exception": false,
     "start_time": "2023-10-04T02:41:18.363679",
     "status": "completed"
    },
    "tags": []
   },
   "outputs": [],
   "source": [
    "df_a_2021['WEIGHT'] = pd.to_numeric(df_a_2021['WEIGHT'], errors='coerce')"
   ]
  },
  {
   "cell_type": "code",
   "execution_count": 7,
   "id": "01ea2c07",
   "metadata": {
    "execution": {
     "iopub.execute_input": "2023-10-04T02:41:18.384551Z",
     "iopub.status.busy": "2023-10-04T02:41:18.384254Z",
     "iopub.status.idle": "2023-10-04T02:41:18.394308Z",
     "shell.execute_reply": "2023-10-04T02:41:18.393446Z"
    },
    "papermill": {
     "duration": 0.016537,
     "end_time": "2023-10-04T02:41:18.395842",
     "exception": false,
     "start_time": "2023-10-04T02:41:18.379305",
     "status": "completed"
    },
    "tags": []
   },
   "outputs": [
    {
     "data": {
      "text/plain": [
       "39507.999999972395"
      ]
     },
     "execution_count": 7,
     "metadata": {},
     "output_type": "execute_result"
    }
   ],
   "source": [
    "# Validation\n",
    "df_a_2021.loc[df_a_2021['MAXSEV_IMNAME'] == 'Fatal Injury (K)', 'WEIGHT'].sum()"
   ]
  },
  {
   "cell_type": "markdown",
   "id": "32b7dd36",
   "metadata": {
    "papermill": {
     "duration": 0.003811,
     "end_time": "2023-10-04T02:41:18.403801",
     "exception": false,
     "start_time": "2023-10-04T02:41:18.399990",
     "status": "completed"
    },
    "tags": []
   },
   "source": [
    "## Merge"
   ]
  },
  {
   "cell_type": "code",
   "execution_count": 8,
   "id": "69eb1549",
   "metadata": {
    "execution": {
     "iopub.execute_input": "2023-10-04T02:41:18.413466Z",
     "iopub.status.busy": "2023-10-04T02:41:18.413168Z",
     "iopub.status.idle": "2023-10-04T02:41:18.417916Z",
     "shell.execute_reply": "2023-10-04T02:41:18.417068Z"
    },
    "papermill": {
     "duration": 0.011581,
     "end_time": "2023-10-04T02:41:18.419542",
     "exception": false,
     "start_time": "2023-10-04T02:41:18.407961",
     "status": "completed"
    },
    "tags": []
   },
   "outputs": [],
   "source": [
    "pd.set_option('display.max_rows', None) "
   ]
  },
  {
   "cell_type": "code",
   "execution_count": 9,
   "id": "53debe11",
   "metadata": {
    "execution": {
     "iopub.execute_input": "2023-10-04T02:41:18.429177Z",
     "iopub.status.busy": "2023-10-04T02:41:18.428839Z",
     "iopub.status.idle": "2023-10-04T02:41:18.594690Z",
     "shell.execute_reply": "2023-10-04T02:41:18.593595Z"
    },
    "papermill": {
     "duration": 0.17293,
     "end_time": "2023-10-04T02:41:18.596675",
     "exception": false,
     "start_time": "2023-10-04T02:41:18.423745",
     "status": "completed"
    },
    "tags": []
   },
   "outputs": [],
   "source": [
    "# Merge - Right Join\n",
    "merged_df = pd.merge(df_a_2021, df_p_2021, on='CASENUM', how='right')"
   ]
  },
  {
   "cell_type": "code",
   "execution_count": 10,
   "id": "348a2510",
   "metadata": {
    "execution": {
     "iopub.execute_input": "2023-10-04T02:41:18.606185Z",
     "iopub.status.busy": "2023-10-04T02:41:18.605830Z",
     "iopub.status.idle": "2023-10-04T02:41:18.927117Z",
     "shell.execute_reply": "2023-10-04T02:41:18.926071Z"
    },
    "papermill": {
     "duration": 0.327918,
     "end_time": "2023-10-04T02:41:18.928995",
     "exception": false,
     "start_time": "2023-10-04T02:41:18.601077",
     "status": "completed"
    },
    "tags": []
   },
   "outputs": [
    {
     "data": {
      "text/plain": [
       "CASENUM                   0\n",
       "PSU_x                     0\n",
       "PSU_VAR_x                 0\n",
       "PSUSTRAT_x                0\n",
       "REGION_x                  0\n",
       "REGIONNAME_x              0\n",
       "URBANICITY_x              0\n",
       "URBANICITYNAME_x          0\n",
       "STRATUM_x                 0\n",
       "STRATUMNAME_x             0\n",
       "PJ_x                      0\n",
       "WEIGHT_x                  0\n",
       "PEDS                      0\n",
       "PERNOTMVIT                0\n",
       "VE_TOTAL                  0\n",
       "VE_FORMS_x                0\n",
       "PVH_INVL                  0\n",
       "PERMVIT                   0\n",
       "MONTH_x                   0\n",
       "MONTHNAME_x               0\n",
       "DAY_WEEK                  0\n",
       "DAY_WEEKNAME              0\n",
       "WKDY_IM                   0\n",
       "WKDY_IMNAME               0\n",
       "YEAR                      0\n",
       "YEARNAME                  0\n",
       "HOUR_x                    0\n",
       "HOURNAME_x                0\n",
       "HOUR_IM                   0\n",
       "HOUR_IMNAME               0\n",
       "MINUTE_x                  0\n",
       "MINUTENAME_x              0\n",
       "MINUTE_IM                 0\n",
       "MINUTE_IMNAME             0\n",
       "HARM_EV_x                 0\n",
       "HARM_EVNAME_x             0\n",
       "EVENT1_IM                 0\n",
       "EVENT1_IMNAME             0\n",
       "MAN_COLL_x                0\n",
       "MAN_COLLNAME_x            0\n",
       "MANCOL_IM                 0\n",
       "MANCOL_IMNAME             0\n",
       "RELJCT1                   0\n",
       "RELJCT1NAME               0\n",
       "RELJCT1_IM                0\n",
       "RELJCT1_IMNAME            0\n",
       "RELJCT2                   0\n",
       "RELJCT2NAME               0\n",
       "RELJCT2_IM                0\n",
       "RELJCT2_IMNAME            0\n",
       "TYP_INT                   0\n",
       "TYP_INTNAME               0\n",
       "REL_ROAD                  0\n",
       "REL_ROADNAME              0\n",
       "WRK_ZONE                  0\n",
       "WRK_ZONENAME         131419\n",
       "LGT_COND                  0\n",
       "LGT_CONDNAME              0\n",
       "LGTCON_IM                 0\n",
       "LGTCON_IMNAME             0\n",
       "WEATHER                   0\n",
       "WEATHERNAME               0\n",
       "WEATHR_IM                 0\n",
       "WEATHR_IMNAME             0\n",
       "SCH_BUS_x                 0\n",
       "SCH_BUSNAME_x             0\n",
       "INT_HWY                   0\n",
       "INT_HWYNAME               0\n",
       "MAX_SEV                   0\n",
       "MAX_SEVNAME               0\n",
       "MAXSEV_IM                 0\n",
       "MAXSEV_IMNAME             0\n",
       "NUM_INJ                   0\n",
       "NUM_INJNAME               0\n",
       "NO_INJ_IM                 0\n",
       "NO_INJ_IMNAME             0\n",
       "ALCOHOL                   0\n",
       "ALCOHOLNAME               0\n",
       "ALCHL_IM                  0\n",
       "ALCHL_IMNAME              0\n",
       "VE_FORMS_y                0\n",
       "VEH_NO                    0\n",
       "PER_NO                    0\n",
       "PSU_y                     0\n",
       "PSU_VAR_y                 0\n",
       "PSUSTRAT_y                0\n",
       "REGION_y                  0\n",
       "REGIONNAME_y              0\n",
       "URBANICITY_y              0\n",
       "URBANICITYNAME_y          0\n",
       "STRATUM_y                 0\n",
       "STRATUMNAME_y             0\n",
       "PJ_y                      0\n",
       "WEIGHT_y                  0\n",
       "MONTH_y                   0\n",
       "MONTHNAME_y               0\n",
       "HOUR_y                    0\n",
       "HOURNAME_y                0\n",
       "MINUTE_y                  0\n",
       "MINUTENAME_y              0\n",
       "HARM_EV_y                 0\n",
       "HARM_EVNAME_y             0\n",
       "MAN_COLL_y                0\n",
       "MAN_COLLNAME_y            0\n",
       "SCH_BUS_y                 0\n",
       "SCH_BUSNAME_y             0\n",
       "MOD_YEAR               5029\n",
       "MOD_YEARNAME           5029\n",
       "VPICMAKE               5029\n",
       "VPICMAKENAME           5029\n",
       "VPICMODEL              5029\n",
       "VPICMODELNAME          5029\n",
       "VPICBODYCLASS          5029\n",
       "VPICBODYCLASSNAME      5029\n",
       "MAKE                   5029\n",
       "MAKENAME               5029\n",
       "BODY_TYP               5029\n",
       "BODY_TYPNAME           5029\n",
       "ICFINALBODY            5029\n",
       "ICFINALBODYNAME        5029\n",
       "GVWR_FROM              5029\n",
       "GVWR_FROMNAME          5029\n",
       "GVWR_TO                5029\n",
       "GVWR_TONAME            5029\n",
       "TOW_VEH                5029\n",
       "TOW_VEHNAME            5029\n",
       "AGE                       0\n",
       "AGENAME                   0\n",
       "AGE_IM                    0\n",
       "AGE_IMNAME                0\n",
       "SEX                       0\n",
       "SEXNAME                   0\n",
       "SEX_IM                    0\n",
       "SEX_IMNAME                0\n",
       "PER_TYP                   0\n",
       "PER_TYPNAME               0\n",
       "INJ_SEV                   0\n",
       "INJ_SEVNAME               0\n",
       "INJSEV_IM                 0\n",
       "INJSEV_IMNAME             0\n",
       "SEAT_POS                  0\n",
       "SEAT_POSNAME              0\n",
       "SEAT_IM                   0\n",
       "SEAT_IMNAME               0\n",
       "REST_USE                  0\n",
       "REST_USENAME              0\n",
       "REST_MIS                  0\n",
       "REST_MISNAME              0\n",
       "HELM_USE                  0\n",
       "HELM_USENAME              0\n",
       "HELM_MIS                  0\n",
       "HELM_MISNAME              0\n",
       "AIR_BAG                   0\n",
       "AIR_BAGNAME               0\n",
       "EJECTION                  0\n",
       "EJECTIONNAME              0\n",
       "EJECT_IM                  0\n",
       "EJECT_IMNAME              0\n",
       "DRINKING                  0\n",
       "DRINKINGNAME              0\n",
       "PERALCH_IM                0\n",
       "PERALCH_IMNAME            0\n",
       "ALC_STATUS                0\n",
       "ALC_STATUSNAME            0\n",
       "ATST_TYP                  0\n",
       "ATST_TYPNAME              0\n",
       "ALC_RES                   0\n",
       "ALC_RESNAME               0\n",
       "DRUGS                     0\n",
       "DRUGSNAME                 0\n",
       "HOSPITAL                  0\n",
       "HOSPITALNAME              0\n",
       "STR_VEH                   0\n",
       "LOCATION                  0\n",
       "LOCATIONNAME              0\n",
       "SPEC_USE               5029\n",
       "SPEC_USENAME           5029\n",
       "EMER_USE               5029\n",
       "EMER_USENAME           5029\n",
       "ROLLOVER               5029\n",
       "ROLLOVERNAME           5029\n",
       "IMPACT1                5029\n",
       "IMPACT1NAME            5029\n",
       "FIRE_EXP               5029\n",
       "FIRE_EXPNAME           5029\n",
       "MAK_MOD                5029\n",
       "MAK_MODNAME            5029\n",
       "dtype: int64"
      ]
     },
     "execution_count": 10,
     "metadata": {},
     "output_type": "execute_result"
    }
   ],
   "source": [
    "# check None value\n",
    "merged_df.isnull().sum()"
   ]
  },
  {
   "cell_type": "markdown",
   "id": "a327a219",
   "metadata": {
    "papermill": {
     "duration": 0.003667,
     "end_time": "2023-10-04T02:41:18.936959",
     "exception": false,
     "start_time": "2023-10-04T02:41:18.933292",
     "status": "completed"
    },
    "tags": []
   },
   "source": [
    "## Drop duplicates"
   ]
  },
  {
   "cell_type": "code",
   "execution_count": 11,
   "id": "8669d053",
   "metadata": {
    "execution": {
     "iopub.execute_input": "2023-10-04T02:41:18.946092Z",
     "iopub.status.busy": "2023-10-04T02:41:18.945762Z",
     "iopub.status.idle": "2023-10-04T02:41:19.009670Z",
     "shell.execute_reply": "2023-10-04T02:41:19.008757Z"
    },
    "papermill": {
     "duration": 0.070792,
     "end_time": "2023-10-04T02:41:19.011663",
     "exception": false,
     "start_time": "2023-10-04T02:41:18.940871",
     "status": "completed"
    },
    "tags": []
   },
   "outputs": [],
   "source": [
    "# Drop duplicate column after joining\n",
    "columns_to_drop = [col for col in merged_df.columns if col.endswith('_y')]\n",
    "merged_df.drop(columns=columns_to_drop, inplace=True)"
   ]
  },
  {
   "cell_type": "code",
   "execution_count": 12,
   "id": "4c852dfa",
   "metadata": {
    "execution": {
     "iopub.execute_input": "2023-10-04T02:41:19.020622Z",
     "iopub.status.busy": "2023-10-04T02:41:19.020333Z",
     "iopub.status.idle": "2023-10-04T02:41:19.025390Z",
     "shell.execute_reply": "2023-10-04T02:41:19.024646Z"
    },
    "papermill": {
     "duration": 0.011817,
     "end_time": "2023-10-04T02:41:19.027604",
     "exception": false,
     "start_time": "2023-10-04T02:41:19.015787",
     "status": "completed"
    },
    "tags": []
   },
   "outputs": [],
   "source": [
    "# Create an identify column \n",
    "merged_df.insert(0, 'ID', range(1, len(merged_df) + 1))"
   ]
  },
  {
   "cell_type": "code",
   "execution_count": 13,
   "id": "4ec19b88",
   "metadata": {
    "execution": {
     "iopub.execute_input": "2023-10-04T02:41:19.038324Z",
     "iopub.status.busy": "2023-10-04T02:41:19.037993Z",
     "iopub.status.idle": "2023-10-04T02:41:19.323780Z",
     "shell.execute_reply": "2023-10-04T02:41:19.323067Z"
    },
    "papermill": {
     "duration": 0.292426,
     "end_time": "2023-10-04T02:41:19.325285",
     "exception": false,
     "start_time": "2023-10-04T02:41:19.032859",
     "status": "completed"
    },
    "tags": []
   },
   "outputs": [
    {
     "data": {
      "text/plain": [
       "ID                        0\n",
       "CASENUM                   0\n",
       "PSU_x                     0\n",
       "PSU_VAR_x                 0\n",
       "PSUSTRAT_x                0\n",
       "REGION_x                  0\n",
       "REGIONNAME_x              0\n",
       "URBANICITY_x              0\n",
       "URBANICITYNAME_x          0\n",
       "STRATUM_x                 0\n",
       "STRATUMNAME_x             0\n",
       "PJ_x                      0\n",
       "WEIGHT_x                  0\n",
       "PEDS                      0\n",
       "PERNOTMVIT                0\n",
       "VE_TOTAL                  0\n",
       "VE_FORMS_x                0\n",
       "PVH_INVL                  0\n",
       "PERMVIT                   0\n",
       "MONTH_x                   0\n",
       "MONTHNAME_x               0\n",
       "DAY_WEEK                  0\n",
       "DAY_WEEKNAME              0\n",
       "WKDY_IM                   0\n",
       "WKDY_IMNAME               0\n",
       "YEAR                      0\n",
       "YEARNAME                  0\n",
       "HOUR_x                    0\n",
       "HOURNAME_x                0\n",
       "HOUR_IM                   0\n",
       "HOUR_IMNAME               0\n",
       "MINUTE_x                  0\n",
       "MINUTENAME_x              0\n",
       "MINUTE_IM                 0\n",
       "MINUTE_IMNAME             0\n",
       "HARM_EV_x                 0\n",
       "HARM_EVNAME_x             0\n",
       "EVENT1_IM                 0\n",
       "EVENT1_IMNAME             0\n",
       "MAN_COLL_x                0\n",
       "MAN_COLLNAME_x            0\n",
       "MANCOL_IM                 0\n",
       "MANCOL_IMNAME             0\n",
       "RELJCT1                   0\n",
       "RELJCT1NAME               0\n",
       "RELJCT1_IM                0\n",
       "RELJCT1_IMNAME            0\n",
       "RELJCT2                   0\n",
       "RELJCT2NAME               0\n",
       "RELJCT2_IM                0\n",
       "RELJCT2_IMNAME            0\n",
       "TYP_INT                   0\n",
       "TYP_INTNAME               0\n",
       "REL_ROAD                  0\n",
       "REL_ROADNAME              0\n",
       "WRK_ZONE                  0\n",
       "WRK_ZONENAME         131419\n",
       "LGT_COND                  0\n",
       "LGT_CONDNAME              0\n",
       "LGTCON_IM                 0\n",
       "LGTCON_IMNAME             0\n",
       "WEATHER                   0\n",
       "WEATHERNAME               0\n",
       "WEATHR_IM                 0\n",
       "WEATHR_IMNAME             0\n",
       "SCH_BUS_x                 0\n",
       "SCH_BUSNAME_x             0\n",
       "INT_HWY                   0\n",
       "INT_HWYNAME               0\n",
       "MAX_SEV                   0\n",
       "MAX_SEVNAME               0\n",
       "MAXSEV_IM                 0\n",
       "MAXSEV_IMNAME             0\n",
       "NUM_INJ                   0\n",
       "NUM_INJNAME               0\n",
       "NO_INJ_IM                 0\n",
       "NO_INJ_IMNAME             0\n",
       "ALCOHOL                   0\n",
       "ALCOHOLNAME               0\n",
       "ALCHL_IM                  0\n",
       "ALCHL_IMNAME              0\n",
       "VEH_NO                    0\n",
       "PER_NO                    0\n",
       "MOD_YEAR               5029\n",
       "MOD_YEARNAME           5029\n",
       "VPICMAKE               5029\n",
       "VPICMAKENAME           5029\n",
       "VPICMODEL              5029\n",
       "VPICMODELNAME          5029\n",
       "VPICBODYCLASS          5029\n",
       "VPICBODYCLASSNAME      5029\n",
       "MAKE                   5029\n",
       "MAKENAME               5029\n",
       "BODY_TYP               5029\n",
       "BODY_TYPNAME           5029\n",
       "ICFINALBODY            5029\n",
       "ICFINALBODYNAME        5029\n",
       "GVWR_FROM              5029\n",
       "GVWR_FROMNAME          5029\n",
       "GVWR_TO                5029\n",
       "GVWR_TONAME            5029\n",
       "TOW_VEH                5029\n",
       "TOW_VEHNAME            5029\n",
       "AGE                       0\n",
       "AGENAME                   0\n",
       "AGE_IM                    0\n",
       "AGE_IMNAME                0\n",
       "SEX                       0\n",
       "SEXNAME                   0\n",
       "SEX_IM                    0\n",
       "SEX_IMNAME                0\n",
       "PER_TYP                   0\n",
       "PER_TYPNAME               0\n",
       "INJ_SEV                   0\n",
       "INJ_SEVNAME               0\n",
       "INJSEV_IM                 0\n",
       "INJSEV_IMNAME             0\n",
       "SEAT_POS                  0\n",
       "SEAT_POSNAME              0\n",
       "SEAT_IM                   0\n",
       "SEAT_IMNAME               0\n",
       "REST_USE                  0\n",
       "REST_USENAME              0\n",
       "REST_MIS                  0\n",
       "REST_MISNAME              0\n",
       "HELM_USE                  0\n",
       "HELM_USENAME              0\n",
       "HELM_MIS                  0\n",
       "HELM_MISNAME              0\n",
       "AIR_BAG                   0\n",
       "AIR_BAGNAME               0\n",
       "EJECTION                  0\n",
       "EJECTIONNAME              0\n",
       "EJECT_IM                  0\n",
       "EJECT_IMNAME              0\n",
       "DRINKING                  0\n",
       "DRINKINGNAME              0\n",
       "PERALCH_IM                0\n",
       "PERALCH_IMNAME            0\n",
       "ALC_STATUS                0\n",
       "ALC_STATUSNAME            0\n",
       "ATST_TYP                  0\n",
       "ATST_TYPNAME              0\n",
       "ALC_RES                   0\n",
       "ALC_RESNAME               0\n",
       "DRUGS                     0\n",
       "DRUGSNAME                 0\n",
       "HOSPITAL                  0\n",
       "HOSPITALNAME              0\n",
       "STR_VEH                   0\n",
       "LOCATION                  0\n",
       "LOCATIONNAME              0\n",
       "SPEC_USE               5029\n",
       "SPEC_USENAME           5029\n",
       "EMER_USE               5029\n",
       "EMER_USENAME           5029\n",
       "ROLLOVER               5029\n",
       "ROLLOVERNAME           5029\n",
       "IMPACT1                5029\n",
       "IMPACT1NAME            5029\n",
       "FIRE_EXP               5029\n",
       "FIRE_EXPNAME           5029\n",
       "MAK_MOD                5029\n",
       "MAK_MODNAME            5029\n",
       "dtype: int64"
      ]
     },
     "execution_count": 13,
     "metadata": {},
     "output_type": "execute_result"
    }
   ],
   "source": [
    "# check None value\n",
    "merged_df.isnull().sum()"
   ]
  },
  {
   "cell_type": "code",
   "execution_count": 14,
   "id": "c847deff",
   "metadata": {
    "execution": {
     "iopub.execute_input": "2023-10-04T02:41:19.335732Z",
     "iopub.status.busy": "2023-10-04T02:41:19.334687Z",
     "iopub.status.idle": "2023-10-04T02:41:19.521476Z",
     "shell.execute_reply": "2023-10-04T02:41:19.520697Z"
    },
    "papermill": {
     "duration": 0.193371,
     "end_time": "2023-10-04T02:41:19.523047",
     "exception": false,
     "start_time": "2023-10-04T02:41:19.329676",
     "status": "completed"
    },
    "tags": []
   },
   "outputs": [
    {
     "data": {
      "text/html": [
       "<div>\n",
       "<style scoped>\n",
       "    .dataframe tbody tr th:only-of-type {\n",
       "        vertical-align: middle;\n",
       "    }\n",
       "\n",
       "    .dataframe tbody tr th {\n",
       "        vertical-align: top;\n",
       "    }\n",
       "\n",
       "    .dataframe thead th {\n",
       "        text-align: right;\n",
       "    }\n",
       "</style>\n",
       "<table border=\"1\" class=\"dataframe\">\n",
       "  <thead>\n",
       "    <tr style=\"text-align: right;\">\n",
       "      <th></th>\n",
       "      <th>ID</th>\n",
       "      <th>CASENUM</th>\n",
       "      <th>PSU_x</th>\n",
       "      <th>PSU_VAR_x</th>\n",
       "      <th>PSUSTRAT_x</th>\n",
       "      <th>REGION_x</th>\n",
       "      <th>REGIONNAME_x</th>\n",
       "      <th>URBANICITY_x</th>\n",
       "      <th>URBANICITYNAME_x</th>\n",
       "      <th>STRATUM_x</th>\n",
       "      <th>...</th>\n",
       "      <th>EMER_USE</th>\n",
       "      <th>EMER_USENAME</th>\n",
       "      <th>ROLLOVER</th>\n",
       "      <th>ROLLOVERNAME</th>\n",
       "      <th>IMPACT1</th>\n",
       "      <th>IMPACT1NAME</th>\n",
       "      <th>FIRE_EXP</th>\n",
       "      <th>FIRE_EXPNAME</th>\n",
       "      <th>MAK_MOD</th>\n",
       "      <th>MAK_MODNAME</th>\n",
       "    </tr>\n",
       "  </thead>\n",
       "  <tbody>\n",
       "    <tr>\n",
       "      <th>0</th>\n",
       "      <td>1</td>\n",
       "      <td>202102916823</td>\n",
       "      <td>51</td>\n",
       "      <td>51</td>\n",
       "      <td>10</td>\n",
       "      <td>3</td>\n",
       "      <td>South (MD, DE, DC, WV, VA, KY, TN, NC, SC, GA,...</td>\n",
       "      <td>1</td>\n",
       "      <td>Urban Area</td>\n",
       "      <td>10</td>\n",
       "      <td>...</td>\n",
       "      <td>0.0</td>\n",
       "      <td>Not Applicable</td>\n",
       "      <td>0.0</td>\n",
       "      <td>No Rollover</td>\n",
       "      <td>12.0</td>\n",
       "      <td>12 Clock Point</td>\n",
       "      <td>0.0</td>\n",
       "      <td>No or Not Reported</td>\n",
       "      <td>35039.0</td>\n",
       "      <td>Nissan/Datsun 810/Maxima</td>\n",
       "    </tr>\n",
       "    <tr>\n",
       "      <th>1</th>\n",
       "      <td>2</td>\n",
       "      <td>202102918622</td>\n",
       "      <td>20</td>\n",
       "      <td>20</td>\n",
       "      <td>25</td>\n",
       "      <td>4</td>\n",
       "      <td>West (MT, ID, WA, OR, CA, NV, NM, AZ, UT, CO, ...</td>\n",
       "      <td>2</td>\n",
       "      <td>Rural Area</td>\n",
       "      <td>10</td>\n",
       "      <td>...</td>\n",
       "      <td>0.0</td>\n",
       "      <td>Not Applicable</td>\n",
       "      <td>0.0</td>\n",
       "      <td>No Rollover</td>\n",
       "      <td>6.0</td>\n",
       "      <td>6 Clock Point</td>\n",
       "      <td>0.0</td>\n",
       "      <td>No or Not Reported</td>\n",
       "      <td>2405.0</td>\n",
       "      <td>Jeep / Kaiser-Jeep / Willys- Jeep Liberty</td>\n",
       "    </tr>\n",
       "    <tr>\n",
       "      <th>2</th>\n",
       "      <td>3</td>\n",
       "      <td>202102918654</td>\n",
       "      <td>75</td>\n",
       "      <td>75</td>\n",
       "      <td>19</td>\n",
       "      <td>3</td>\n",
       "      <td>South (MD, DE, DC, WV, VA, KY, TN, NC, SC, GA,...</td>\n",
       "      <td>2</td>\n",
       "      <td>Rural Area</td>\n",
       "      <td>10</td>\n",
       "      <td>...</td>\n",
       "      <td>0.0</td>\n",
       "      <td>Not Applicable</td>\n",
       "      <td>0.0</td>\n",
       "      <td>No Rollover</td>\n",
       "      <td>12.0</td>\n",
       "      <td>12 Clock Point</td>\n",
       "      <td>0.0</td>\n",
       "      <td>No or Not Reported</td>\n",
       "      <td>35043.0</td>\n",
       "      <td>Nissan/Datsun Sentra</td>\n",
       "    </tr>\n",
       "    <tr>\n",
       "      <th>3</th>\n",
       "      <td>4</td>\n",
       "      <td>202102918674</td>\n",
       "      <td>40</td>\n",
       "      <td>40</td>\n",
       "      <td>15</td>\n",
       "      <td>3</td>\n",
       "      <td>South (MD, DE, DC, WV, VA, KY, TN, NC, SC, GA,...</td>\n",
       "      <td>1</td>\n",
       "      <td>Urban Area</td>\n",
       "      <td>9</td>\n",
       "      <td>...</td>\n",
       "      <td>0.0</td>\n",
       "      <td>Not Applicable</td>\n",
       "      <td>0.0</td>\n",
       "      <td>No Rollover</td>\n",
       "      <td>12.0</td>\n",
       "      <td>12 Clock Point</td>\n",
       "      <td>0.0</td>\n",
       "      <td>No or Not Reported</td>\n",
       "      <td>49401.0</td>\n",
       "      <td>Toyota 4-Runner</td>\n",
       "    </tr>\n",
       "    <tr>\n",
       "      <th>4</th>\n",
       "      <td>5</td>\n",
       "      <td>202102918674</td>\n",
       "      <td>40</td>\n",
       "      <td>40</td>\n",
       "      <td>15</td>\n",
       "      <td>3</td>\n",
       "      <td>South (MD, DE, DC, WV, VA, KY, TN, NC, SC, GA,...</td>\n",
       "      <td>1</td>\n",
       "      <td>Urban Area</td>\n",
       "      <td>9</td>\n",
       "      <td>...</td>\n",
       "      <td>0.0</td>\n",
       "      <td>Not Applicable</td>\n",
       "      <td>0.0</td>\n",
       "      <td>No Rollover</td>\n",
       "      <td>3.0</td>\n",
       "      <td>3 Clock Point</td>\n",
       "      <td>0.0</td>\n",
       "      <td>No or Not Reported</td>\n",
       "      <td>63032.0</td>\n",
       "      <td>KIA Rio/Rio5</td>\n",
       "    </tr>\n",
       "  </tbody>\n",
       "</table>\n",
       "<p>5 rows × 164 columns</p>\n",
       "</div>"
      ],
      "text/plain": [
       "   ID       CASENUM  PSU_x  PSU_VAR_x  PSUSTRAT_x  REGION_x  \\\n",
       "0   1  202102916823     51         51          10         3   \n",
       "1   2  202102918622     20         20          25         4   \n",
       "2   3  202102918654     75         75          19         3   \n",
       "3   4  202102918674     40         40          15         3   \n",
       "4   5  202102918674     40         40          15         3   \n",
       "\n",
       "                                        REGIONNAME_x  URBANICITY_x  \\\n",
       "0  South (MD, DE, DC, WV, VA, KY, TN, NC, SC, GA,...             1   \n",
       "1  West (MT, ID, WA, OR, CA, NV, NM, AZ, UT, CO, ...             2   \n",
       "2  South (MD, DE, DC, WV, VA, KY, TN, NC, SC, GA,...             2   \n",
       "3  South (MD, DE, DC, WV, VA, KY, TN, NC, SC, GA,...             1   \n",
       "4  South (MD, DE, DC, WV, VA, KY, TN, NC, SC, GA,...             1   \n",
       "\n",
       "  URBANICITYNAME_x  STRATUM_x  ... EMER_USE    EMER_USENAME  ROLLOVER  \\\n",
       "0       Urban Area         10  ...      0.0  Not Applicable       0.0   \n",
       "1       Rural Area         10  ...      0.0  Not Applicable       0.0   \n",
       "2       Rural Area         10  ...      0.0  Not Applicable       0.0   \n",
       "3       Urban Area          9  ...      0.0  Not Applicable       0.0   \n",
       "4       Urban Area          9  ...      0.0  Not Applicable       0.0   \n",
       "\n",
       "   ROLLOVERNAME  IMPACT1     IMPACT1NAME  FIRE_EXP        FIRE_EXPNAME  \\\n",
       "0   No Rollover     12.0  12 Clock Point       0.0  No or Not Reported   \n",
       "1   No Rollover      6.0   6 Clock Point       0.0  No or Not Reported   \n",
       "2   No Rollover     12.0  12 Clock Point       0.0  No or Not Reported   \n",
       "3   No Rollover     12.0  12 Clock Point       0.0  No or Not Reported   \n",
       "4   No Rollover      3.0   3 Clock Point       0.0  No or Not Reported   \n",
       "\n",
       "   MAK_MOD                                MAK_MODNAME  \n",
       "0  35039.0                   Nissan/Datsun 810/Maxima  \n",
       "1   2405.0  Jeep / Kaiser-Jeep / Willys- Jeep Liberty  \n",
       "2  35043.0                       Nissan/Datsun Sentra  \n",
       "3  49401.0                            Toyota 4-Runner  \n",
       "4  63032.0                               KIA Rio/Rio5  \n",
       "\n",
       "[5 rows x 164 columns]"
      ]
     },
     "execution_count": 14,
     "metadata": {},
     "output_type": "execute_result"
    }
   ],
   "source": [
    "# Split values\n",
    "parts = merged_df['STRATUMNAME_x'].str.split('-')\n",
    "merged_df['STRATUMNAME_x'] = parts.str[1].str.strip()\n",
    "merged_df[:5]"
   ]
  },
  {
   "cell_type": "code",
   "execution_count": 15,
   "id": "ae6e4875",
   "metadata": {
    "execution": {
     "iopub.execute_input": "2023-10-04T02:41:19.533275Z",
     "iopub.status.busy": "2023-10-04T02:41:19.532962Z",
     "iopub.status.idle": "2023-10-04T02:41:19.541291Z",
     "shell.execute_reply": "2023-10-04T02:41:19.540440Z"
    },
    "papermill": {
     "duration": 0.015292,
     "end_time": "2023-10-04T02:41:19.542886",
     "exception": false,
     "start_time": "2023-10-04T02:41:19.527594",
     "status": "completed"
    },
    "tags": []
   },
   "outputs": [
    {
     "data": {
      "text/plain": [
       "ID                     int64\n",
       "CASENUM                int64\n",
       "PSU_x                  int64\n",
       "PSU_VAR_x              int64\n",
       "PSUSTRAT_x             int64\n",
       "REGION_x               int64\n",
       "REGIONNAME_x          object\n",
       "URBANICITY_x           int64\n",
       "URBANICITYNAME_x      object\n",
       "STRATUM_x              int64\n",
       "STRATUMNAME_x         object\n",
       "PJ_x                   int64\n",
       "WEIGHT_x             float64\n",
       "PEDS                   int64\n",
       "PERNOTMVIT             int64\n",
       "VE_TOTAL               int64\n",
       "VE_FORMS_x             int64\n",
       "PVH_INVL               int64\n",
       "PERMVIT                int64\n",
       "MONTH_x                int64\n",
       "MONTHNAME_x           object\n",
       "DAY_WEEK               int64\n",
       "DAY_WEEKNAME          object\n",
       "WKDY_IM                int64\n",
       "WKDY_IMNAME           object\n",
       "YEAR                   int64\n",
       "YEARNAME               int64\n",
       "HOUR_x                 int64\n",
       "HOURNAME_x            object\n",
       "HOUR_IM                int64\n",
       "HOUR_IMNAME           object\n",
       "MINUTE_x               int64\n",
       "MINUTENAME_x          object\n",
       "MINUTE_IM              int64\n",
       "MINUTE_IMNAME          int64\n",
       "HARM_EV_x              int64\n",
       "HARM_EVNAME_x         object\n",
       "EVENT1_IM              int64\n",
       "EVENT1_IMNAME         object\n",
       "MAN_COLL_x             int64\n",
       "MAN_COLLNAME_x        object\n",
       "MANCOL_IM              int64\n",
       "MANCOL_IMNAME         object\n",
       "RELJCT1                int64\n",
       "RELJCT1NAME           object\n",
       "RELJCT1_IM             int64\n",
       "RELJCT1_IMNAME        object\n",
       "RELJCT2                int64\n",
       "RELJCT2NAME           object\n",
       "RELJCT2_IM             int64\n",
       "RELJCT2_IMNAME        object\n",
       "TYP_INT                int64\n",
       "TYP_INTNAME           object\n",
       "REL_ROAD               int64\n",
       "REL_ROADNAME          object\n",
       "WRK_ZONE               int64\n",
       "WRK_ZONENAME          object\n",
       "LGT_COND               int64\n",
       "LGT_CONDNAME          object\n",
       "LGTCON_IM              int64\n",
       "LGTCON_IMNAME         object\n",
       "WEATHER                int64\n",
       "WEATHERNAME           object\n",
       "WEATHR_IM              int64\n",
       "WEATHR_IMNAME         object\n",
       "SCH_BUS_x              int64\n",
       "SCH_BUSNAME_x         object\n",
       "INT_HWY                int64\n",
       "INT_HWYNAME           object\n",
       "MAX_SEV                int64\n",
       "MAX_SEVNAME           object\n",
       "MAXSEV_IM              int64\n",
       "MAXSEV_IMNAME         object\n",
       "NUM_INJ                int64\n",
       "NUM_INJNAME           object\n",
       "NO_INJ_IM              int64\n",
       "NO_INJ_IMNAME         object\n",
       "ALCOHOL                int64\n",
       "ALCOHOLNAME           object\n",
       "ALCHL_IM               int64\n",
       "ALCHL_IMNAME          object\n",
       "VEH_NO                 int64\n",
       "PER_NO                 int64\n",
       "MOD_YEAR             float64\n",
       "MOD_YEARNAME          object\n",
       "VPICMAKE             float64\n",
       "VPICMAKENAME          object\n",
       "VPICMODEL            float64\n",
       "VPICMODELNAME         object\n",
       "VPICBODYCLASS        float64\n",
       "VPICBODYCLASSNAME     object\n",
       "MAKE                 float64\n",
       "MAKENAME              object\n",
       "BODY_TYP             float64\n",
       "BODY_TYPNAME          object\n",
       "ICFINALBODY          float64\n",
       "ICFINALBODYNAME       object\n",
       "GVWR_FROM            float64\n",
       "GVWR_FROMNAME         object\n",
       "GVWR_TO              float64\n",
       "GVWR_TONAME           object\n",
       "TOW_VEH              float64\n",
       "TOW_VEHNAME           object\n",
       "AGE                    int64\n",
       "AGENAME               object\n",
       "AGE_IM                 int64\n",
       "AGE_IMNAME            object\n",
       "SEX                    int64\n",
       "SEXNAME               object\n",
       "SEX_IM                 int64\n",
       "SEX_IMNAME            object\n",
       "PER_TYP                int64\n",
       "PER_TYPNAME           object\n",
       "INJ_SEV                int64\n",
       "INJ_SEVNAME           object\n",
       "INJSEV_IM              int64\n",
       "INJSEV_IMNAME         object\n",
       "SEAT_POS               int64\n",
       "SEAT_POSNAME          object\n",
       "SEAT_IM                int64\n",
       "SEAT_IMNAME           object\n",
       "REST_USE               int64\n",
       "REST_USENAME          object\n",
       "REST_MIS               int64\n",
       "REST_MISNAME          object\n",
       "HELM_USE               int64\n",
       "HELM_USENAME          object\n",
       "HELM_MIS               int64\n",
       "HELM_MISNAME          object\n",
       "AIR_BAG                int64\n",
       "AIR_BAGNAME           object\n",
       "EJECTION               int64\n",
       "EJECTIONNAME          object\n",
       "EJECT_IM               int64\n",
       "EJECT_IMNAME          object\n",
       "DRINKING               int64\n",
       "DRINKINGNAME          object\n",
       "PERALCH_IM             int64\n",
       "PERALCH_IMNAME        object\n",
       "ALC_STATUS             int64\n",
       "ALC_STATUSNAME        object\n",
       "ATST_TYP               int64\n",
       "ATST_TYPNAME          object\n",
       "ALC_RES                int64\n",
       "ALC_RESNAME           object\n",
       "DRUGS                  int64\n",
       "DRUGSNAME             object\n",
       "HOSPITAL               int64\n",
       "HOSPITALNAME          object\n",
       "STR_VEH                int64\n",
       "LOCATION               int64\n",
       "LOCATIONNAME          object\n",
       "SPEC_USE             float64\n",
       "SPEC_USENAME          object\n",
       "EMER_USE             float64\n",
       "EMER_USENAME          object\n",
       "ROLLOVER             float64\n",
       "ROLLOVERNAME          object\n",
       "IMPACT1              float64\n",
       "IMPACT1NAME           object\n",
       "FIRE_EXP             float64\n",
       "FIRE_EXPNAME          object\n",
       "MAK_MOD              float64\n",
       "MAK_MODNAME           object\n",
       "dtype: object"
      ]
     },
     "execution_count": 15,
     "metadata": {},
     "output_type": "execute_result"
    }
   ],
   "source": [
    "# check the types of all columns\n",
    "merged_df.dtypes"
   ]
  },
  {
   "cell_type": "code",
   "execution_count": 16,
   "id": "6fdaae22",
   "metadata": {
    "execution": {
     "iopub.execute_input": "2023-10-04T02:41:19.553334Z",
     "iopub.status.busy": "2023-10-04T02:41:19.552992Z",
     "iopub.status.idle": "2023-10-04T02:41:19.594706Z",
     "shell.execute_reply": "2023-10-04T02:41:19.593480Z"
    },
    "papermill": {
     "duration": 0.048881,
     "end_time": "2023-10-04T02:41:19.596335",
     "exception": false,
     "start_time": "2023-10-04T02:41:19.547454",
     "status": "completed"
    },
    "tags": []
   },
   "outputs": [],
   "source": [
    "# change first column from int 64 to String\n",
    "merged_df['CASENUM'] = merged_df['CASENUM'].astype(str)"
   ]
  },
  {
   "cell_type": "markdown",
   "id": "3e4f2408",
   "metadata": {
    "papermill": {
     "duration": 0.004629,
     "end_time": "2023-10-04T02:41:19.606241",
     "exception": false,
     "start_time": "2023-10-04T02:41:19.601612",
     "status": "completed"
    },
    "tags": []
   },
   "source": [
    "## Calculate the Weighted_frequency accident_2020"
   ]
  },
  {
   "cell_type": "code",
   "execution_count": 17,
   "id": "e77a2096",
   "metadata": {
    "execution": {
     "iopub.execute_input": "2023-10-04T02:41:19.618072Z",
     "iopub.status.busy": "2023-10-04T02:41:19.616761Z",
     "iopub.status.idle": "2023-10-04T02:41:19.635985Z",
     "shell.execute_reply": "2023-10-04T02:41:19.634584Z"
    },
    "papermill": {
     "duration": 0.026854,
     "end_time": "2023-10-04T02:41:19.637743",
     "exception": false,
     "start_time": "2023-10-04T02:41:19.610889",
     "status": "completed"
    },
    "tags": []
   },
   "outputs": [],
   "source": [
    "# Calculate weight\n",
    "merged_df['is_duplicated'] = merged_df.duplicated(subset='CASENUM', keep='first')\n",
    "merged_df['unique weight'] = np.where(merged_df['is_duplicated'], 0, merged_df['WEIGHT_x'])"
   ]
  },
  {
   "cell_type": "code",
   "execution_count": 18,
   "id": "b0b3a7ef",
   "metadata": {
    "execution": {
     "iopub.execute_input": "2023-10-04T02:41:19.649460Z",
     "iopub.status.busy": "2023-10-04T02:41:19.648407Z",
     "iopub.status.idle": "2023-10-04T02:41:19.662263Z",
     "shell.execute_reply": "2023-10-04T02:41:19.661063Z"
    },
    "papermill": {
     "duration": 0.021738,
     "end_time": "2023-10-04T02:41:19.664413",
     "exception": false,
     "start_time": "2023-10-04T02:41:19.642675",
     "status": "completed"
    },
    "tags": []
   },
   "outputs": [
    {
     "data": {
      "text/plain": [
       "39507.999999972395"
      ]
     },
     "execution_count": 18,
     "metadata": {},
     "output_type": "execute_result"
    }
   ],
   "source": [
    "# Validation\n",
    "merged_df.loc[merged_df['MAXSEV_IMNAME'] == 'Fatal Injury (K)', 'unique weight'].sum()"
   ]
  },
  {
   "cell_type": "markdown",
   "id": "9e92db12",
   "metadata": {
    "papermill": {
     "duration": 0.004682,
     "end_time": "2023-10-04T02:41:19.674205",
     "exception": false,
     "start_time": "2023-10-04T02:41:19.669523",
     "status": "completed"
    },
    "tags": []
   },
   "source": [
    "## Output"
   ]
  },
  {
   "cell_type": "code",
   "execution_count": 19,
   "id": "86a69851",
   "metadata": {
    "execution": {
     "iopub.execute_input": "2023-10-04T02:41:19.685283Z",
     "iopub.status.busy": "2023-10-04T02:41:19.684731Z",
     "iopub.status.idle": "2023-10-04T02:41:25.099047Z",
     "shell.execute_reply": "2023-10-04T02:41:25.097622Z"
    },
    "papermill": {
     "duration": 5.422202,
     "end_time": "2023-10-04T02:41:25.101274",
     "exception": false,
     "start_time": "2023-10-04T02:41:19.679072",
     "status": "completed"
    },
    "tags": []
   },
   "outputs": [],
   "source": [
    "merged_df.to_csv('/kaggle/working/US Road Fatality modified new.csv', index=False)"
   ]
  },
  {
   "cell_type": "markdown",
   "id": "1d71886d",
   "metadata": {
    "papermill": {
     "duration": 0.004493,
     "end_time": "2023-10-04T02:41:25.110912",
     "exception": false,
     "start_time": "2023-10-04T02:41:25.106419",
     "status": "completed"
    },
    "tags": []
   },
   "source": [
    "## Note\n",
    "1. Should create a column for \"Date\" - Combine Year, Month, Hour, Minute. \n",
    "2. Don't delete any columns you're uncertain about, especially if you're not sure whether you'll need them later. It will help you save your time.\n",
    "3. Validate your data.\n",
    "4. Always understand the meaning of each column in your data. Know your data first!\n",
    "5. Next -- Compare the data between 2020 and 2021"
   ]
  },
  {
   "cell_type": "code",
   "execution_count": 20,
   "id": "87847414",
   "metadata": {
    "execution": {
     "iopub.execute_input": "2023-10-04T02:41:25.121555Z",
     "iopub.status.busy": "2023-10-04T02:41:25.121282Z",
     "iopub.status.idle": "2023-10-04T02:41:25.125068Z",
     "shell.execute_reply": "2023-10-04T02:41:25.124094Z"
    },
    "papermill": {
     "duration": 0.011176,
     "end_time": "2023-10-04T02:41:25.126722",
     "exception": false,
     "start_time": "2023-10-04T02:41:25.115546",
     "status": "completed"
    },
    "tags": []
   },
   "outputs": [],
   "source": [
    "# # Drop Columns\n",
    "# merged_df = merged_df.drop(columns=[\n",
    "#  'PSU','WRK_ZONENAME','PSU_VAR','PSUSTRAT','PEDS','PERNOTMVIT','VE_TOTAL','VE_FORMS','PVH_INVL',\n",
    "#  'PERMVIT','WKDY_IM','HOUR_IMNAME','MINUTE_IM','EVENT1_IM','MANCOL_IM','RELJCT1_IM','RELJCT2_IM',\n",
    "#  'INJSEV_IM','HELM_USE','HELM_USENAME','HELM_MIS','AIR_BAG','EJECT_IM','DRINKING','PERALCH_IM','TYP_INT','REL_ROAD',\n",
    "#  'LGTCON_IM','WEATHR_IM','SCH_BUS','INT_HWY','MAXSEV_IM','NO_INJ_IMNAME','ALCHL_IM','AGE_IMNAME',\n",
    "#  'PER_TYP','PERALCH_IMNAME','DRUGS','DRUGSNAME', 'DRINKINGNAME', 'EJECTION', 'EJECTIONNAME', 'EJECT_IM', 'REST_USE', 'REST_USENAME', 'REST_MIS'])"
   ]
  },
  {
   "cell_type": "code",
   "execution_count": 21,
   "id": "24367d85",
   "metadata": {
    "execution": {
     "iopub.execute_input": "2023-10-04T02:41:25.138148Z",
     "iopub.status.busy": "2023-10-04T02:41:25.137786Z",
     "iopub.status.idle": "2023-10-04T02:41:25.141788Z",
     "shell.execute_reply": "2023-10-04T02:41:25.140990Z"
    },
    "papermill": {
     "duration": 0.011624,
     "end_time": "2023-10-04T02:41:25.143327",
     "exception": false,
     "start_time": "2023-10-04T02:41:25.131703",
     "status": "completed"
    },
    "tags": []
   },
   "outputs": [],
   "source": [
    "# df_p_2020 = pd.read_csv('/kaggle/input/2020-us-fatality-crss/accident.csv')\n",
    "# df_a_2020 = pd.read_csv('/kaggle/input/2020-us-fatality-crss/accident.csv')"
   ]
  }
 ],
 "metadata": {
  "kernelspec": {
   "display_name": "Python 3",
   "language": "python",
   "name": "python3"
  },
  "language_info": {
   "codemirror_mode": {
    "name": "ipython",
    "version": 3
   },
   "file_extension": ".py",
   "mimetype": "text/x-python",
   "name": "python",
   "nbconvert_exporter": "python",
   "pygments_lexer": "ipython3",
   "version": "3.10.12"
  },
  "papermill": {
   "default_parameters": {},
   "duration": 14.632614,
   "end_time": "2023-10-04T02:41:25.566905",
   "environment_variables": {},
   "exception": null,
   "input_path": "__notebook__.ipynb",
   "output_path": "__notebook__.ipynb",
   "parameters": {},
   "start_time": "2023-10-04T02:41:10.934291",
   "version": "2.4.0"
  }
 },
 "nbformat": 4,
 "nbformat_minor": 5
}
